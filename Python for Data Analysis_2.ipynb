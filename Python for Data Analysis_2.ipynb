{
  "nbformat": 4,
  "nbformat_minor": 0,
  "metadata": {
    "colab": {
      "provenance": [],
      "authorship_tag": "ABX9TyOQEEL1u+MBB2QkVS+zfSjl",
      "include_colab_link": true
    },
    "kernelspec": {
      "name": "python3",
      "display_name": "Python 3"
    },
    "language_info": {
      "name": "python"
    }
  },
  "cells": [
    {
      "cell_type": "markdown",
      "metadata": {
        "id": "view-in-github",
        "colab_type": "text"
      },
      "source": [
        "<a href=\"https://colab.research.google.com/github/cjn002/Work-portfolio/blob/main/Python%20for%20Data%20Analysis_2.ipynb\" target=\"_parent\"><img src=\"https://colab.research.google.com/assets/colab-badge.svg\" alt=\"Open In Colab\"/></a>"
      ]
    },
    {
      "cell_type": "code",
      "metadata": {
        "id": "Vq7PSCkikaDp"
      },
      "source": [
        "import numpy as np\n",
        "%matplotlib inline\n",
        "import matplotlib.pyplot as plt"
      ],
      "execution_count": null,
      "outputs": []
    },
    {
      "cell_type": "markdown",
      "metadata": {
        "id": "vrB8NDFoWtK3"
      },
      "source": [
        "第三題：學生成績分布圖"
      ]
    },
    {
      "cell_type": "code",
      "metadata": {
        "colab": {
          "base_uri": "https://localhost:8080/"
        },
        "id": "fVsToqgR6HLK",
        "outputId": "a045abe6-ce3b-4060-a972-80207917dd43"
      },
      "source": [
        "g = np.array(np.random.randint(0,101,40))\n",
        "g"
      ],
      "execution_count": null,
      "outputs": [
        {
          "output_type": "execute_result",
          "data": {
            "text/plain": [
              "array([31, 93, 34, 99, 17,  5, 93, 68, 11, 25, 57, 93, 89, 10, 72,  9, 72,\n",
              "       96, 14, 39, 19,  8, 97, 13, 13, 89, 44, 71, 70, 13, 88, 77, 56, 48,\n",
              "       72, 79,  5, 15,  3, 44])"
            ]
          },
          "metadata": {},
          "execution_count": 2
        }
      ]
    },
    {
      "cell_type": "code",
      "metadata": {
        "colab": {
          "base_uri": "https://localhost:8080/"
        },
        "id": "W45VxNa5_T_o",
        "outputId": "9c143c99-40e4-457d-a612-0819350f8273"
      },
      "source": [
        "print('最高分:',max(g))\n",
        "print('最低分:',min(g))\n",
        "print('及格人數:',len(g[g>=60]))\n",
        "print('平均:',np.mean(g))\n",
        "print('標準差:',np.std(g))"
      ],
      "execution_count": null,
      "outputs": [
        {
          "output_type": "stream",
          "name": "stdout",
          "text": [
            "最高分: 99\n",
            "最低分: 3\n",
            "及格人數: 17\n",
            "平均: 48.775\n",
            "標準差: 33.133432888851104\n"
          ]
        }
      ]
    },
    {
      "cell_type": "code",
      "metadata": {
        "colab": {
          "base_uri": "https://localhost:8080/",
          "height": 299
        },
        "id": "BHiMoW_aAQZD",
        "outputId": "5e9cd18c-c228-4214-ceb3-fff984c52906"
      },
      "source": [
        "g1 = len(g[g<=10])\n",
        "g2 = len(g[g<=20]) - g1\n",
        "g3 = len(g[g<=30]) - len(g[g<=20])\n",
        "g4 = len(g[g<=40]) - len(g[g<=30])\n",
        "g5 = len(g[g<=50]) - len(g[g<=40])\n",
        "g6 = len(g[g<=60]) - len(g[g<=50])\n",
        "g7 = len(g[g<=70]) - len(g[g<=60])\n",
        "g8 = len(g[g<=80]) - len(g[g<=70])\n",
        "g9 = len(g[g<=90]) - len(g[g<=80])\n",
        "g10 = len(g[g<=100]) - len(g[g<=90])\n",
        "y = np.array([g1,g2,g3,g4,g5,g6,g7,g8,g9,g10])\n",
        "x = np.array([10,20,30,40,50,60,70,80,90,100])\n",
        "print('各成績區間人數圖')\n",
        "plt.bar(x,y,width=8)"
      ],
      "execution_count": null,
      "outputs": [
        {
          "output_type": "stream",
          "name": "stdout",
          "text": [
            "各成績區間人數圖\n"
          ]
        },
        {
          "output_type": "execute_result",
          "data": {
            "text/plain": [
              "<BarContainer object of 10 artists>"
            ]
          },
          "metadata": {},
          "execution_count": 4
        },
        {
          "output_type": "display_data",
          "data": {
            "image/png": "[encoded data removed]",
            "text/plain": [
              "<Figure size 432x288 with 1 Axes>"
            ]
          },
          "metadata": {
            "needs_background": "light"
          }
        }
      ]
    }
  ]
}