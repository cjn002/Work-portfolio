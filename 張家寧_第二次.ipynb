{
  "nbformat": 4,
  "nbformat_minor": 0,
  "metadata": {
    "colab": {
      "provenance": [],
      "authorship_tag": "ABX9TyNrw2quNQkeSTGep6F+gwA+",
      "include_colab_link": true
    },
    "kernelspec": {
      "display_name": "Python 3",
      "name": "python3"
    },
    "language_info": {
      "name": "python"
    }
  },
  "cells": [
    {
      "cell_type": "markdown",
      "metadata": {
        "id": "view-in-github",
        "colab_type": "text"
      },
      "source": [
        "<a href=\"https://colab.research.google.com/github/cjn002/Work-portfolio/blob/main/%E5%BC%B5%E5%AE%B6%E5%AF%A7_%E7%AC%AC%E4%BA%8C%E6%AC%A1.ipynb\" target=\"_parent\"><img src=\"https://colab.research.google.com/assets/colab-badge.svg\" alt=\"Open In Colab\"/></a>"
      ]
    },
    {
      "cell_type": "markdown",
      "metadata": {
        "id": "K1InaQ6i3HTe"
      },
      "source": [
        "1到100隨機數字比大小遊戲"
      ]
    },
    {
      "cell_type": "code",
      "metadata": {
        "colab": {
          "base_uri": "https://localhost:8080/"
        },
        "id": "vnDzb3X2WSIR",
        "outputId": "9820edf3-3816-41fa-dd1f-cc34797febbc"
      },
      "source": [
        "from random import randint\n",
        "\n",
        "start = input('請輸入0或1\\n0:結束遊戲\\n1:開始遊戲\\n>>')\n",
        "while start!='0' and start!='1':\n",
        "  start = input('請輸入0或1\\n0:結束遊戲\\n1:開始遊戲\\n>>')\n",
        "if start == '0':\n",
        "  print('結束遊戲，下次再來')\n",
        "elif start == '1':\n",
        "  win = 0\n",
        "  lose = 0\n",
        "  while True:\n",
        "    \n",
        "    a = randint(1,100)\n",
        "    b = randint(1,100)\n",
        "    print('你的數字是:', a)\n",
        "    c = input('請選擇\\n1:比大\\n2:比小\\n>>')\n",
        "    while c!='1' and c!='2':\n",
        "      c = input('請選擇\\n1:比大\\n2:比小\\n>>')\n",
        "    if c == '1':\n",
        "      if a>b :\n",
        "        win += 1\n",
        "        print('你贏了!\\n你的數字是{}\\n電腦的數字是{}'.format(a, b))\n",
        "        d = input('是否繼續遊戲?\\n0:結束遊戲\\n1:繼續遊戲\\n>>')\n",
        "        while d!='0' and d!='1':\n",
        "          d = input('是否繼續遊戲?\\n0:結束遊戲\\n1:繼續遊戲\\n>>')\n",
        "        if d == '0':\n",
        "          print('你贏了{}場，輸了{}場，勝率:{}%'.format(win, lose, round((win/(win+lose))*100, 1)))\n",
        "          break\n",
        "        else:\n",
        "          continue\n",
        "      elif a<b :\n",
        "        lose += 1\n",
        "        print('你輸了...\\n你的數字是{}\\n電腦的數字是{}'.format(a, b))\n",
        "        d = input('是否繼續遊戲?\\n0:結束遊戲\\n1:繼續遊戲\\n>>')\n",
        "        while d!='0' and d!='1':\n",
        "          d = input('是否繼續遊戲?\\n0:結束遊戲\\n1:繼續遊戲\\n>>')\n",
        "        if d == '0':\n",
        "          print('你贏了{}場，輸了{}場，勝率:{}%'.format(win, lose, round((win/(win+lose))*100, 1)))\n",
        "          break\n",
        "        else:\n",
        "          continue\n",
        "      else:\n",
        "        print('平手\\n你的數字是{}\\n電腦的數字是{}'.format(a, b))\n",
        "        d = input('是否繼續遊戲?\\n0:結束遊戲\\n1:繼續遊戲\\n>>')\n",
        "        while d!='0' and d!='1':\n",
        "          d = input('是否繼續遊戲?\\n0:結束遊戲\\n1:繼續遊戲\\n>>')\n",
        "        if d == '0':\n",
        "          print('你贏了{}場，輸了{}場，勝率:{}%'.format(win, lose, round((win/(win+lose))*100, 1)))\n",
        "          break\n",
        "        else:\n",
        "          continue\n",
        "    else:\n",
        "      if a<b :\n",
        "        win += 1\n",
        "        print('你贏了!\\n你的數字是{}\\n電腦的數字是{}'.format(a, b))\n",
        "        d = input('是否繼續遊戲?\\n0:結束遊戲\\n1:繼續遊戲\\n>>')\n",
        "        while d!='0' and d!='1':\n",
        "          d = input('是否繼續遊戲?\\n0:結束遊戲\\n1:繼續遊戲\\n>>')\n",
        "        if d == '0':\n",
        "          print('你贏了{}場，輸了{}場，勝率:{}%'.format(win, lose, round((win/(win+lose))*100, 1)))\n",
        "          break\n",
        "        else:\n",
        "          continue\n",
        "      elif a>b :\n",
        "        lose += 1\n",
        "        print('你輸了...\\n你的數字是{}\\n電腦的數字是{}'.format(a, b))\n",
        "        d = input('是否繼續遊戲?\\n0:結束遊戲\\n1:繼續遊戲\\n>>')\n",
        "        while d!='0' and d!='1':\n",
        "          d = input('是否繼續遊戲?\\n0:結束遊戲\\n1:繼續遊戲\\n>>')\n",
        "        if d == '0':\n",
        "          print('你贏了{}場，輸了{}場，勝率:{}%'.format(win, lose, round((win/(win+lose))*100, 1)))\n",
        "          break\n",
        "        else:\n",
        "          continue\n",
        "      else:\n",
        "        print('平手\\n你的數字是{}\\n電腦的數字是{}'.format(a, b))\n",
        "        d = input('是否繼續遊戲?\\n0:結束遊戲\\n1:繼續遊戲\\n>>')\n",
        "        while d!='0' and d!='1':\n",
        "          d = input('是否繼續遊戲?\\n0:結束遊戲\\n1:繼續遊戲\\n>>')\n",
        "        if d == '0':\n",
        "          print('你贏了{}場，輸了{}場，勝率:{}%'.format(win, lose, round((win/(win+lose))*100, 1)))\n",
        "          break\n",
        "        else:\n",
        "          continue"
      ],
      "execution_count": null,
      "outputs": [
        {
          "output_type": "stream",
          "name": "stdout",
          "text": [
            "請輸入0或1\n",
            "0:結束遊戲\n",
            "1:開始遊戲\n",
            ">>1\n",
            "你的數字是: 52\n",
            "請選擇\n",
            "1:比大\n",
            "2:比小\n",
            ">>1\n",
            "你輸了...\n",
            "你的數字是52\n",
            "電腦的數字是85\n",
            "是否繼續遊戲?\n",
            "0:結束遊戲\n",
            "1:繼續遊戲\n",
            ">>1\n",
            "你的數字是: 31\n",
            "請選擇\n",
            "1:比大\n",
            "2:比小\n",
            ">>2\n",
            "你贏了!\n",
            "你的數字是31\n",
            "電腦的數字是51\n",
            "是否繼續遊戲?\n",
            "0:結束遊戲\n",
            "1:繼續遊戲\n",
            ">>1\n",
            "你的數字是: 44\n",
            "請選擇\n",
            "1:比大\n",
            "2:比小\n",
            ">>2\n",
            "你輸了...\n",
            "你的數字是44\n",
            "電腦的數字是3\n",
            "是否繼續遊戲?\n",
            "0:結束遊戲\n",
            "1:繼續遊戲\n",
            ">>1\n",
            "你的數字是: 91\n",
            "請選擇\n",
            "1:比大\n",
            "2:比小\n",
            ">>1\n",
            "你贏了!\n",
            "你的數字是91\n",
            "電腦的數字是8\n",
            "是否繼續遊戲?\n",
            "0:結束遊戲\n",
            "1:繼續遊戲\n",
            ">>0\n",
            "你贏了2場，輸了2場，勝率:50.0%\n"
          ]
        }
      ]
    },
    {
      "cell_type": "markdown",
      "metadata": {
        "id": "k7X6GJ4sWinF"
      },
      "source": []
    }
  ]
}